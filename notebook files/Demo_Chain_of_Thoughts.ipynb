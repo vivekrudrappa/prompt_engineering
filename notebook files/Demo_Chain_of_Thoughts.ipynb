{
  "cells": [
    {
      "cell_type": "code",
      "source": [],
      "metadata": {
        "id": "CeygmCvBEgwW"
      },
      "id": "CeygmCvBEgwW",
      "execution_count": null,
      "outputs": []
    },
    {
      "cell_type": "markdown",
      "id": "oBl1D-pEjs6I",
      "metadata": {
        "id": "oBl1D-pEjs6I"
      },
      "source": [
        "# __Demo: Chain of Thought Prompting with OpenAI__\n"
      ]
    },
    {
      "cell_type": "markdown",
      "id": "lvZdkb4YpOHd",
      "metadata": {
        "id": "lvZdkb4YpOHd"
      },
      "source": [
        "## __Steps to Perform:__\n",
        "Step 1: Set up the OpenAI API Key\n",
        "\n",
        "Step 2: Define a Function to Get Completion\n",
        "\n",
        "Step 3: Define Your Prompts\n",
        "\n",
        "Step 4: Analyze the Output"
      ]
    },
    {
      "cell_type": "markdown",
      "id": "Q91iZEcUqMci",
      "metadata": {
        "id": "Q91iZEcUqMci"
      },
      "source": [
        "### __Step 1: Set up the OpenAI API Key__\n",
        "- Import the required libraries and set up the OpenAI API key.\n"
      ]
    },
    {
      "cell_type": "code",
      "execution_count": 2,
      "id": "b77ac5df-7119-4777-b0ba-910e5811a852",
      "metadata": {
        "id": "b77ac5df-7119-4777-b0ba-910e5811a852"
      },
      "outputs": [],
      "source": [
        "import os\n",
        "import openai\n",
        "from google.colab import userdata\n",
        "\n",
        "openai.api_key  = userdata.get('OPENAI_API_KEY')\n"
      ]
    },
    {
      "cell_type": "markdown",
      "id": "8CLt67fQq7FE",
      "metadata": {
        "id": "8CLt67fQq7FE"
      },
      "source": [
        "### __Step 2: Define a Function to Get Completion__\n",
        "- Construct a message with the user's prompt.\n",
        "- Call the __openai.chat.completions.create__ method to get a response from the model.\n",
        "- The temperature parameter is set to __0__ for deterministic (non-random) responses."
      ]
    },
    {
      "cell_type": "code",
      "execution_count": 3,
      "id": "504caddf-3cec-4c96-983f-a73c29bf4223",
      "metadata": {
        "id": "504caddf-3cec-4c96-983f-a73c29bf4223"
      },
      "outputs": [],
      "source": [
        "def get_completion(prompt, model=\"gpt-3.5-turbo\"):\n",
        "    messages = [{\"role\": \"user\", \"content\": prompt}]\n",
        "    response = openai.chat.completions.create(\n",
        "        model=model,\n",
        "        messages=messages,\n",
        "        temperature=0,\n",
        "        max_tokens=512\n",
        "    )\n",
        "    return response.choices[0].message.content"
      ]
    },
    {
      "cell_type": "markdown",
      "id": "CZHiudNysyw4",
      "metadata": {
        "id": "CZHiudNysyw4"
      },
      "source": [
        "### __Step 3: Define Your Prompts__\n",
        "- Provide a series of prompts that guide the model through a chain of thought.\n",
        "- Call the __get_completion__ to get a response from the AI model.\n",
        "- Print both the prompt and the AI-generated response."
      ]
    },
    {
      "cell_type": "code",
      "execution_count": null,
      "id": "417cc372-7a86-48b6-9400-366a4a7e7992",
      "metadata": {
        "id": "417cc372-7a86-48b6-9400-366a4a7e7992",
        "colab": {
          "base_uri": "https://localhost:8080/"
        },
        "outputId": "4da0518d-27c5-433c-9bec-109684ab0c3a"
      },
      "outputs": [
        {
          "output_type": "stream",
          "name": "stdout",
          "text": [
            "Prompt: Imagine you are a detective trying to solve a mystery.\n",
            "Response: The case I am currently working on involves the disappearance of a young woman named Emily. She was last seen leaving her apartment late at night, and her roommate reported her missing the next morning when she didn't return.\n",
            "\n",
            "I start by interviewing Emily's friends and family to gather information about her habits and any potential enemies she may have had. I also review surveillance footage from the area where she was last seen to see if anyone was following her.\n",
            "\n",
            "As I dig deeper into the case, I discover that Emily had recently broken up with her boyfriend, who had been acting possessive and jealous. I bring him in for questioning and he denies any involvement in her disappearance, but his alibi doesn't check out.\n",
            "\n",
            "I also uncover a series of threatening messages sent to Emily in the weeks leading up to her disappearance. I trace the messages back to a disgruntled coworker who had been fired from the same company as Emily.\n",
            "\n",
            "With this new information, I track down the coworker and confront him. He confesses to kidnapping Emily in a fit of rage and leads me to the location where he had been keeping her captive.\n",
            "\n",
            "Thanks to my diligent detective work, Emily is rescued and the perpetrator is brought to justice. Another case solved, another mystery unraveled.\n",
            "\n",
            "Prompt: You arrive at the crime scene and start looking for clues.\n",
            "Response: You notice a broken window with shards of glass scattered on the ground. There are also muddy footprints leading away from the window towards the back of the house. As you follow the footprints, you see a discarded crowbar lying on the ground. \n",
            "\n",
            "You take note of the crowbar and continue to search the area for more clues. You find a piece of torn fabric caught on a nearby fence, which appears to have come from a piece of clothing. \n",
            "\n",
            "You also notice a small bloodstain on the ground near the broken window. You carefully collect a sample of the blood for further analysis. \n",
            "\n",
            "As you continue to search the area, you find a discarded wallet with identification inside. You make a note of the name on the ID and take the wallet as evidence. \n",
            "\n",
            "After thoroughly examining the crime scene and collecting all possible clues, you make a list of items to be sent to the lab for analysis. You also make a note to follow up on the identification found in the wallet to track down potential suspects.\n",
            "\n",
            "Prompt: You find a strange object at the crime scene. What is it?\n",
            "Response: The strange object found at the crime scene is a small, intricately carved wooden figurine of a mysterious creature with glowing red eyes. It appears to be of ancient origin and emits a faint, eerie energy. The detectives are puzzled by its presence and wonder if it holds any significance to the crime that took place.\n",
            "\n",
            "Prompt: How does this object relate to the crime?\n",
            "Response: Without knowing what the object is or any details about the crime, it is impossible to determine how they may be related. More information would be needed to make a connection between the object and the crime.\n",
            "\n",
            "Prompt: Who do you think is the suspect and why?\n",
            "Response: Without more information about the situation or context, it is impossible to determine who the suspect may be. It is important to gather all relevant evidence and information before making any accusations or assumptions.\n",
            "\n"
          ]
        }
      ],
      "source": [
        "prompts = [\n",
        "    \"Imagine you are a detective trying to solve a mystery.\",\n",
        "    \"You arrive at the crime scene and start looking for clues.\",\n",
        "    \"You find a strange object at the crime scene. What is it?\",\n",
        "    \"How does this object relate to the crime?\",\n",
        "    \"Who do you think is the suspect and why?\"\n",
        "]\n",
        "\n",
        "for prompt in prompts:\n",
        "    response_content = get_completion(prompt)\n",
        "    print(f\"Prompt: {prompt}\")\n",
        "    print(f\"Response: {response_content}\")\n",
        "    print()"
      ]
    },
    {
      "cell_type": "markdown",
      "id": "sY2lKxE2twjn",
      "metadata": {
        "id": "sY2lKxE2twjn"
      },
      "source": [
        "## __Step 4: Analyze the Output__\n",
        "Analyze the output of the model. If the output is not satisfactory, you can refine the prompts and repeat the process.\n"
      ]
    },
    {
      "cell_type": "code",
      "source": [
        "prompt = \"\"\"\n",
        "\n",
        "let's analyze the sentiment of the review step by step\n",
        "\n",
        "1. Identify the Positive aspect of the review and give a score from 10\n",
        "2. Identify the Negative aspect of the review and give a score from 10\n",
        "3. Weight the positive and negative aspect to determine the overall sentiment.\n",
        "4. provide the final sentiment classification with justification for scores used in above steps.\n",
        "\n",
        "Review: \"The product is very well designed product\"\n",
        "\"\"\"\n",
        "response = get_completion(prompt)\n",
        "print(response)"
      ],
      "metadata": {
        "id": "6Rnuqvl9rsus",
        "colab": {
          "base_uri": "https://localhost:8080/"
        },
        "outputId": "5de2859d-8bd0-4b67-a164-f37f9cae3e83"
      },
      "id": "6Rnuqvl9rsus",
      "execution_count": null,
      "outputs": [
        {
          "output_type": "stream",
          "name": "stdout",
          "text": [
            "1. Positive aspect: \"very well designed product\"\n",
            "Score: 9/10\n",
            "\n",
            "2. Negative aspect: None mentioned in the review\n",
            "\n",
            "3. Weighting: Since there is no negative aspect mentioned, we can consider the positive aspect as the overall sentiment.\n",
            "\n",
            "4. Final sentiment classification: Positive\n",
            "Justification: The review only mentions a positive aspect, praising the product for being very well designed. This indicates a high level of satisfaction with the product, leading to a positive sentiment classification.\n"
          ]
        }
      ]
    },
    {
      "cell_type": "code",
      "source": [
        "prompt = \"\"\"\n",
        "\n",
        "let's sort the values of the list step by step\n",
        "\n",
        "1. Start with the unsorted list.\n",
        "2. Compare each elements and find the smallest value.\n",
        "3. Place the samllest value in the first position.\n",
        "4. Repeat the process for all the remaming elements.\n",
        "5. provide the sorted list.\n",
        "\n",
        "Sort the list : [3,1,4,6,5,9,2]\n",
        "\n",
        "\"\"\"\n",
        "response = get_completion(prompt)\n",
        "print(response)"
      ],
      "metadata": {
        "id": "c3Ned866r2Ta",
        "colab": {
          "base_uri": "https://localhost:8080/"
        },
        "outputId": "6665d92c-fc8c-4cee-bc92-9c55fed1ff22"
      },
      "id": "c3Ned866r2Ta",
      "execution_count": null,
      "outputs": [
        {
          "output_type": "stream",
          "name": "stdout",
          "text": [
            "Step 1: [3,1,4,6,5,9,2]\n",
            "Step 2: [1,3,4,6,5,9,2]\n",
            "Step 3: [1,3,4,6,5,9,2]\n",
            "Step 4: [1,2,3,4,6,5,9]\n",
            "Step 5: [1,2,3,4,5,6,9]\n",
            "\n",
            "Sorted list: [1,2,3,4,5,6,9]\n"
          ]
        }
      ]
    },
    {
      "cell_type": "code",
      "source": [
        "prompt = \"\"\"\n",
        "\n",
        "\"You have 12 identical-looking balls, but one is either heavier or lighter.\n",
        "You have a balance scale and can only use it three times.\n",
        "Explain step-by-step how you can find the odd ball and determine whether it is heavier or lighter.\n",
        "Think through the problem carefully and explain your reasoning in detail before giving the final answer.\"\n",
        "\n",
        "\"\"\"\n",
        "response = get_completion(prompt)\n",
        "print(response)"
      ],
      "metadata": {
        "id": "8YlbD1KArsxQ",
        "colab": {
          "base_uri": "https://localhost:8080/"
        },
        "outputId": "b2ab2ca9-b158-42ae-ef3d-7b5774301b86"
      },
      "id": "8YlbD1KArsxQ",
      "execution_count": 4,
      "outputs": [
        {
          "output_type": "stream",
          "name": "stdout",
          "text": [
            "Step 1: Divide the 12 balls into three groups of 4 balls each. \n",
            "\n",
            "Step 2: Weigh two of the groups of 4 balls against each other on the balance scale. \n",
            "\n",
            "Case 1: If the two groups of 4 balls weigh the same, then the odd ball must be in the third group of 4 balls. \n",
            "\n",
            "Step 3: Take the third group of 4 balls and weigh two of the balls against each other on the balance scale. \n",
            "\n",
            "Case 1a: If the two balls weigh the same, then the odd ball must be the third ball that was not weighed. \n",
            "\n",
            "Case 1b: If one of the balls is heavier or lighter, then that ball is the odd one out. \n",
            "\n",
            "Case 2: If one of the groups of 4 balls is heavier or lighter than the other, then the odd ball must be in that group. \n",
            "\n",
            "Step 3: Take the group of 4 balls that is heavier or lighter and weigh two of the balls against each other on the balance scale. \n",
            "\n",
            "Case 2a: If one of the balls is heavier or lighter, then that ball is the odd one out. \n",
            "\n",
            "Case 2b: If the two balls weigh the same, then the odd ball must be the third ball that was not weighed. \n",
            "\n",
            "By following these steps, you can determine which ball is the odd one out and whether it is heavier or lighter using the balance scale only three times.\n"
          ]
        }
      ]
    },
    {
      "cell_type": "code",
      "source": [],
      "metadata": {
        "id": "dHjlwGOCrsz3"
      },
      "id": "dHjlwGOCrsz3",
      "execution_count": null,
      "outputs": []
    }
  ],
  "metadata": {
    "colab": {
      "provenance": []
    },
    "kernelspec": {
      "display_name": "Python 3 [3.10]",
      "language": "python",
      "name": "python3"
    },
    "language_info": {
      "codemirror_mode": {
        "name": "ipython",
        "version": 3
      },
      "file_extension": ".py",
      "mimetype": "text/x-python",
      "name": "python",
      "nbconvert_exporter": "python",
      "pygments_lexer": "ipython3",
      "version": "3.10.2"
    }
  },
  "nbformat": 4,
  "nbformat_minor": 5
}