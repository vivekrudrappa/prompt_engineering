{
  "cells": [
    {
      "cell_type": "markdown",
      "id": "7WOjV7vo9cT6",
      "metadata": {
        "id": "7WOjV7vo9cT6"
      },
      "source": [
        "# __Demo: Self-Consistency Prompting with OpenAI__"
      ]
    },
    {
      "cell_type": "markdown",
      "id": "ZKzMpVFbOoWU",
      "metadata": {
        "id": "ZKzMpVFbOoWU"
      },
      "source": [
        "## __Steps to Perform:__\n",
        "\n",
        "Step 1: Set up the OpenAI API Key\n",
        "\n",
        "Step 2: Define a Function to Get Completion\n",
        "\n",
        "Step 3: Define Your Prompts"
      ]
    },
    {
      "cell_type": "markdown",
      "id": "AfdqBdeKPnVX",
      "metadata": {
        "id": "AfdqBdeKPnVX"
      },
      "source": [
        "### __Step 1: Set up the OpenAI API Key__\n",
        "- Import the required libraries and set up the OpenAI API key."
      ]
    },
    {
      "cell_type": "code",
      "execution_count": null,
      "id": "c9a0ea85-80ba-4af5-bc64-73d74a28b57f",
      "metadata": {
        "id": "c9a0ea85-80ba-4af5-bc64-73d74a28b57f"
      },
      "outputs": [],
      "source": [
        "import os\n",
        "import openai\n",
        "from google.colab import userdata\n",
        "\n",
        "openai.api_key  = userdata.get('OPENAI_API_KEY')\n"
      ]
    },
    {
      "cell_type": "markdown",
      "id": "IPE1LxgOPSUo",
      "metadata": {
        "id": "IPE1LxgOPSUo"
      },
      "source": [
        "### __Step 2: Define a Function to Get Completion__\n",
        "- Construct a message with the user's prompt.\n",
        "- Call the __openai.ChatCompletion.create__ method to get a response from the model.\n",
        "- The temperature parameter is set to __0__ for deterministic (non-random) responses."
      ]
    },
    {
      "cell_type": "code",
      "execution_count": null,
      "id": "7d0d44b2-14fd-45f0-b2cc-9ca440887758",
      "metadata": {
        "id": "7d0d44b2-14fd-45f0-b2cc-9ca440887758"
      },
      "outputs": [],
      "source": [
        "def get_completion(prompt, model=\"gpt-3.5-turbo\"):\n",
        "    messages = [{\"role\": \"user\", \"content\": prompt}]\n",
        "    response = openai.chat.completions.create(\n",
        "        model=model,\n",
        "        messages=messages,\n",
        "        temperature=0, # this is the degree of randomness of the model's output\n",
        "    )\n",
        "    return response.choices[0].message.content"
      ]
    },
    {
      "cell_type": "markdown",
      "id": "Qo0MsRX5PFqN",
      "metadata": {
        "id": "Qo0MsRX5PFqN"
      },
      "source": [
        "### __Step 3: Evaluate the Output__\n",
        "- Generate multiple lines of reasoning to answer the question.\n",
        "- Ask the AI to evaluate these reasonings and determine the most consistent answer."
      ]
    },
    {
      "cell_type": "code",
      "execution_count": null,
      "id": "47154330-0504-4524-b08e-832c479646b6",
      "metadata": {
        "id": "47154330-0504-4524-b08e-832c479646b6",
        "outputId": "52dd08c9-bc0c-4ced-cc2b-619e3a08fa68"
      },
      "outputs": [
        {
          "name": "stdout",
          "output_type": "stream",
          "text": [
            "Shakespearean English: 'I am learning to employ OpenAI, verily.'\n"
          ]
        }
      ],
      "source": [
        "prompt = \"\"\"\n",
        "Let's consider which is heavier: 1000 feathers or a 30-pound weight. I'll think through this in a few different ways and then decide which answer seems most consistent.\n",
        "\n",
        "1. First line of reasoning: A single feather is very light, almost weightless. So, 1000 feathers might still be quite light, possibly lighter than a 30-pound weight.\n",
        "\n",
        "2. Second line of reasoning: 1000 is a large number, and when you add up the weight of so many feathers, it could be quite heavy. Maybe it's heavier than a 30-pound weight.\n",
        "\n",
        "3. Third line of reasoning: The average weight of a feather is very small. Even 1000 feathers would not add up to 30 pounds.\n",
        "\n",
        "Considering these reasonings, the most consistent answer is:\n",
        "\"\"\"\n",
        "\n",
        "response = get_completion(prompt)\n",
        "print(response)"
      ]
    },
    {
      "cell_type": "markdown",
      "id": "_5hsOXzWPufh",
      "metadata": {
        "id": "_5hsOXzWPufh"
      },
      "source": [
        "You have learned how to use LangChain and OpenAI to generate creative content from prompts. You have also gained experience using self-consistency prompting to guide the model’s output."
      ]
    }
  ],
  "metadata": {
    "colab": {
      "provenance": []
    },
    "kernelspec": {
      "display_name": "Python 3 [3.10]",
      "language": "python",
      "name": "python3"
    },
    "language_info": {
      "codemirror_mode": {
        "name": "ipython",
        "version": 3
      },
      "file_extension": ".py",
      "mimetype": "text/x-python",
      "name": "python",
      "nbconvert_exporter": "python",
      "pygments_lexer": "ipython3",
      "version": "3.10.2"
    }
  },
  "nbformat": 4,
  "nbformat_minor": 5
}