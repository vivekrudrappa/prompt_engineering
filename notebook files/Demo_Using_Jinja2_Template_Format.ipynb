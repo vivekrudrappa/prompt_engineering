{
  "cells": [
    {
      "cell_type": "markdown",
      "metadata": {
        "id": "0abUL0RRNG6I"
      },
      "source": [
        "# __Demo: Using Jinja2 Template Format__"
      ]
    },
    {
      "cell_type": "markdown",
      "metadata": {
        "id": "OYE4hJXGPqg1"
      },
      "source": [
        "## __Steps to Perform:__\n",
        "Step 1: Define a Template Using the Jinja2 Format\n",
        "\n",
        "Step 2: Create a Prompt Using the Jinja2 Template\n",
        "\n",
        "Step 3: Use the Prompt to Generate a Question"
      ]
    },
    {
      "cell_type": "markdown",
      "metadata": {
        "id": "luXQdvDQRxQo"
      },
      "source": [
        "### __Step 1: Define a Template Using the Jinja2 Format__\n",
        "- This line defines a template string using Jinja2 syntax.\n",
        "- The __{{ adjective }}__ and __{{ topic }}__ are placeholders that can be filled with different values to create varied sentences or prompts."
      ]
    },
    {
      "cell_type": "code",
      "execution_count": null,
      "metadata": {
        "id": "cLjdzOTbLhmQ"
      },
      "outputs": [],
      "source": [
        "from langchain.prompts import PromptTemplate\n",
        "jinja2_template = \"Give me a {{ adjective }} fact about {{ topic }}\""
      ]
    },
    {
      "cell_type": "markdown",
      "metadata": {
        "id": "z6qA77_NSNfe"
      },
      "source": [
        "### __Step 2: Create a Prompt Using the Jinja2 Template__\n",
        "- This line suggests creating a __PromptTemplate__ object from the Jinja2 template."
      ]
    },
    {
      "cell_type": "code",
      "execution_count": null,
      "metadata": {
        "id": "hAHi3asNSHMn"
      },
      "outputs": [],
      "source": [
        "prompt = PromptTemplate.from_template(jinja2_template, template_format=\"jinja2\")\n"
      ]
    },
    {
      "cell_type": "markdown",
      "metadata": {
        "id": "h-KF0qmGSch4"
      },
      "source": [
        "### __Step 3: Use the Prompt to Generate a Question__\n",
        "- The Jinja2 template is used to generate a specific question.\n",
        "- The placeholders __{{ adjective }}__ and __{{ topic }}__ in the template are replaced with __interesting__ and __space exploration__, respectively.\n",
        "- Print the question generated from the template.\n",
        "\n"
      ]
    },
    {
      "cell_type": "code",
      "execution_count": null,
      "metadata": {
        "id": "GC4rij5xSa4c",
        "outputId": "af1662e9-e2e4-4cd3-86cf-e6337e43fdf6"
      },
      "outputs": [
        {
          "name": "stdout",
          "output_type": "stream",
          "text": [
            "Give me a interesting fact about space exploration\n"
          ]
        }
      ],
      "source": [
        "question = prompt.format(adjective=\"interesting\", topic=\"space exploration\")\n",
        "\n",
        "print(question)"
      ]
    },
    {
      "cell_type": "markdown",
      "source": [
        "## __Conclusion__\n",
        "The demo highlights the use of Jinja2 templates to dynamically generate content by defining placeholders within a template, creating a template object, and substituting placeholders with specific values to produce customized questions.\n",
        "\n",
        "This approach showcases the efficiency of using Jinja2 for creating flexible and tailored content across various applications."
      ],
      "metadata": {
        "id": "597-9gqmMtHk"
      }
    }
  ],
  "metadata": {
    "colab": {
      "provenance": []
    },
    "kernelspec": {
      "display_name": "Python 3 [3.10]",
      "language": "python",
      "name": "python3"
    },
    "language_info": {
      "codemirror_mode": {
        "name": "ipython",
        "version": 3
      },
      "file_extension": ".py",
      "mimetype": "text/x-python",
      "name": "python",
      "nbconvert_exporter": "python",
      "pygments_lexer": "ipython3",
      "version": "3.10.2"
    }
  },
  "nbformat": 4,
  "nbformat_minor": 0
}