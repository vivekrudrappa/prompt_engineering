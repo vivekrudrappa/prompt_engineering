{
  "cells": [
    {
      "cell_type": "markdown",
      "id": "briPFNp1Fzpv",
      "metadata": {
        "id": "briPFNp1Fzpv"
      },
      "source": [
        "# __Demo: Tree of Thought Prompting with OpenAI__\n",
        "\n",
        "\n",
        "## __Steps to Perform:__\n",
        "Step 1: Set up the OpenAI API Key\n",
        "\n",
        "Step 2: Define a Function to Get Completion\n",
        "\n",
        "Step 3: Define Your Prompts\n",
        "\n"
      ]
    },
    {
      "cell_type": "markdown",
      "id": "eAM5-YP-GFdY",
      "metadata": {
        "id": "eAM5-YP-GFdY"
      },
      "source": [
        "### __Step 1: Set up the OpenAI API Key__\n",
        "- Import the required libraries and set up the OpenAI API key."
      ]
    },
    {
      "cell_type": "code",
      "execution_count": null,
      "id": "edd589c7-3089-4387-801d-443eae67a201",
      "metadata": {
        "id": "edd589c7-3089-4387-801d-443eae67a201"
      },
      "outputs": [],
      "source": [
        "import os\n",
        "import openai\n",
        "from google.colab import userdata\n",
        "\n",
        "openai.api_key  = userdata.get('OPENAI_API_KEY')\n"
      ]
    },
    {
      "cell_type": "markdown",
      "id": "kfeoI7zTGTCY",
      "metadata": {
        "id": "kfeoI7zTGTCY"
      },
      "source": [
        "### __Step 2: Define a Function to Get Completion__\n",
        "- Construct a message with the user's prompt.\n",
        "- Call the __openai.ChatCompletion.create__ method to get a response from the model.\n",
        "- The temperature parameter is set to __0__ for deterministic (non-random) responses."
      ]
    },
    {
      "cell_type": "code",
      "execution_count": null,
      "id": "629a2fcb-cffc-4e05-bfc8-429802da7925",
      "metadata": {
        "id": "629a2fcb-cffc-4e05-bfc8-429802da7925"
      },
      "outputs": [],
      "source": [
        "def get_completion(prompt, model=\"gpt-3.5-turbo\"):\n",
        "    messages = [{\"role\": \"user\", \"content\": prompt}]\n",
        "    response = openai.chat.completions.create(\n",
        "        model=model,\n",
        "        messages=messages,\n",
        "        temperature=0, # this is the degree of randomness of the model's output\n",
        "    )\n",
        "    return response.choices[0].message.content"
      ]
    },
    {
      "cell_type": "markdown",
      "id": "7sMtUV5hGhjR",
      "metadata": {
        "id": "7sMtUV5hGhjR"
      },
      "source": [
        "### __Step 3: Define Your Prompts__\n",
        "- Provide a series of prompts that guide the model through a tree of thought.\n",
        "- Call __get_completion__ to get a response from the AI model.\n",
        "- Print both the prompt and the AI-generated response."
      ]
    },
    {
      "cell_type": "code",
      "execution_count": null,
      "id": "22ef5cdd-bf0f-4dc3-850b-9ec6fd9f03b7",
      "metadata": {
        "id": "22ef5cdd-bf0f-4dc3-850b-9ec6fd9f03b7",
        "outputId": "34dd8c18-2340-4020-a6cd-5970277c46db"
      },
      "outputs": [
        {
          "name": "stdout",
          "output_type": "stream",
          "text": [
            "AI Response:\n",
            "The dimensions should be 40 meters by 20 meters, resulting in a maximum area of 800 square meters.\n"
          ]
        }
      ],
      "source": [
        "prompt = \"\"\"\n",
        "Solve the problem: A farmer has 100 meters of fencing and wants to enclose the maximum area for his rectangular field. What should the dimensions be?\n",
        "\n",
        "Let's think about this in a few ways:\n",
        "\n",
        "1. If the field is a square, each side would be 100 / 4 = 25 meters. The area would be 25 * 25 = 625 square meters.\n",
        "\n",
        "2. What if the field is not a square? Let's try a 2:1 ratio. The lengths would be 40 and 20 meters. The area would be 40 * 20 = 800 square meters.\n",
        "\n",
        "3. Are there any other ratios that might give a larger area than a square or a 2:1 rectangle?\n",
        "\n",
        "Considering these options, the best dimensions for the maximum area are:\n",
        "\"\"\"\n",
        "response = get_completion(prompt)\n",
        "print(\"AI Response:\")\n",
        "print(response)"
      ]
    },
    {
      "cell_type": "markdown",
      "id": "f1ffIbSSFx-S",
      "metadata": {
        "id": "f1ffIbSSFx-S"
      },
      "source": [
        "\n",
        "Analyze the output of the model. If the output is not satisfactory, you can refine the prompts and repeat the process."
      ]
    }
  ],
  "metadata": {
    "colab": {
      "provenance": []
    },
    "kernelspec": {
      "display_name": "Python 3 [3.10]",
      "language": "python",
      "name": "python3"
    },
    "language_info": {
      "codemirror_mode": {
        "name": "ipython",
        "version": 3
      },
      "file_extension": ".py",
      "mimetype": "text/x-python",
      "name": "python",
      "nbconvert_exporter": "python",
      "pygments_lexer": "ipython3",
      "version": "3.10.2"
    }
  },
  "nbformat": 4,
  "nbformat_minor": 5
}