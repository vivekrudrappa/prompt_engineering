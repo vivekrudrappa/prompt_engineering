{
  "cells": [
    {
      "cell_type": "markdown",
      "id": "JjVaYKA3E4Sh",
      "metadata": {
        "id": "JjVaYKA3E4Sh"
      },
      "source": [
        "# __Demo: Basics of OpenAI API call in python__"
      ]
    },
    {
      "cell_type": "markdown",
      "id": "L5xEJAD-FWkJ",
      "metadata": {
        "id": "L5xEJAD-FWkJ"
      },
      "source": [
        "## __Steps to Perform:__\n",
        "Step 1: Set up the OpenAI API Key\n",
        "\n",
        "Step 2: Define a Function to Get Completion\n",
        "\n",
        "Step 3: Define Your Prompt"
      ]
    },
    {
      "cell_type": "markdown",
      "id": "oejbW3zZlqXB",
      "metadata": {
        "id": "oejbW3zZlqXB"
      },
      "source": [
        "### __Step 1: Set up the OpenAI API Key__\n",
        "- The code imports the necessary libraries.\n",
        "- The **os** is used for interacting with the operating system, and __openai__ is the library required to work with OpenAI's API."
      ]
    },
    {
      "cell_type": "code",
      "execution_count": null,
      "id": "172a828d-22d6-486b-be55-62c9258add5b",
      "metadata": {
        "id": "172a828d-22d6-486b-be55-62c9258add5b"
      },
      "outputs": [],
      "source": [
        "import os\n",
        "import openai\n",
        "from google.colab import userdata\n",
        "\n",
        "openai.api_key  = userdata.get('OPENAI_API_KEY')\n"
      ]
    },
    {
      "cell_type": "markdown",
      "id": "yI8QQCxCl-LQ",
      "metadata": {
        "id": "yI8QQCxCl-LQ"
      },
      "source": [
        "### __Step 2: Define a Function to Get Completion__\n",
        "The __get_completion__ function is responsible for sending a prompt to the OpenAI model and receiving its response.\n",
        "\n",
        "__Parameters:__\n",
        "  - __prompt__: It is the text input for which the model will generate a completion.\n",
        "  -  __model__: The gpt-3.5-turbo model is used to perform the tasks.\n",
        "\n",
        "The __openai.ChatCompletion.create__ function is used to send a request to the OpenAI API.\n",
        "- This request includes the model, the input messages (formatted as a list of dictionaries with user roles and content), and a temperature setting."
      ]
    },
    {
      "cell_type": "code",
      "execution_count": null,
      "id": "e778a5d4-77e5-4d61-a77d-3fed1e8d830a",
      "metadata": {
        "id": "e778a5d4-77e5-4d61-a77d-3fed1e8d830a"
      },
      "outputs": [],
      "source": [
        "def get_completion(prompt, model=\"gpt-3.5-turbo\"):\n",
        "    try:\n",
        "        messages = [{\"role\": \"user\", \"content\": prompt}]\n",
        "\n",
        "        response = openai.chat.completions.create(\n",
        "            model=model,\n",
        "            messages=messages,\n",
        "            temperature=0.1,\n",
        "            max_tokens=512\n",
        "        )\n",
        "\n",
        "        return response  # Return full response (not a string)\n",
        "\n",
        "    except openai.error.OpenAIError as e:\n",
        "        return {\"error\": f\"OpenAI API Error: {str(e)}\"}\n",
        "    except Exception as e:\n",
        "        return {\"error\": f\"Unexpected Error: {str(e)}\"}"
      ]
    },
    {
      "cell_type": "markdown",
      "id": "efe55c20-acf7-45b0-9d64-9b4e89938fc7",
      "metadata": {
        "id": "efe55c20-acf7-45b0-9d64-9b4e89938fc7"
      },
      "source": [
        "Inside the above fucntion, we will discuss the Messages part first\n",
        "\n",
        "Structure is :\n",
        "\n",
        "**Role** --> Defining who is speaking\n",
        "\n",
        "    System : Sets the behavious of the model\n",
        "    User : Who inputs the data or instruction\n",
        "    Assistant : The models's Response\n",
        "\n",
        "Content : The actual text or instruction which is passed by us."
      ]
    },
    {
      "cell_type": "markdown",
      "id": "XJS0DNh0nonO",
      "metadata": {
        "id": "XJS0DNh0nonO"
      },
      "source": [
        "### __Step 3: Define Your Prompt__\n",
        "- The prompt variable is defined with a simple translation task."
      ]
    },
    {
      "cell_type": "code",
      "execution_count": null,
      "id": "3ef6aa68-a8aa-45c6-b70b-3060e9253b90",
      "metadata": {
        "id": "3ef6aa68-a8aa-45c6-b70b-3060e9253b90",
        "outputId": "3fd524aa-1085-4756-e37e-b5141bd96629",
        "colab": {
          "base_uri": "https://localhost:8080/"
        }
      },
      "outputs": [
        {
          "output_type": "stream",
          "name": "stdout",
          "text": [
            "Artificial intelligence (AI) refers to the simulation of human intelligence processes by machines, particularly computer systems. These processes include learning, reasoning, problem-solving, perception, and language understanding. AI technologies enable machines to perform tasks that typically require human intelligence, such as visual perception, speech recognition, decision-making, and language translation.\n",
            "\n",
            "There are different types of AI, including narrow AI, which is designed for specific tasks, and general AI, which aims to replicate human intelligence across a wide range of tasks. Machine learning is a subset of AI that involves training algorithms to learn from data and make predictions or decisions without being explicitly programmed.\n",
            "\n",
            "AI has a wide range of applications across various industries, including healthcare, finance, transportation, and entertainment. It has the potential to revolutionize how we work, live, and interact with technology in the future. However, there are also ethical and societal concerns surrounding AI, such as job displacement, bias in algorithms, and privacy issues.\n"
          ]
        }
      ],
      "source": [
        "prompt = \"Explain artificial intelligence\"\n",
        "response = get_completion(prompt)\n",
        "\n",
        "print(response.choices[0].message.content)"
      ]
    },
    {
      "cell_type": "code",
      "execution_count": null,
      "id": "5bf8b09a-e09a-4405-b342-0cafee23feca",
      "metadata": {
        "colab": {
          "base_uri": "https://localhost:8080/"
        },
        "id": "5bf8b09a-e09a-4405-b342-0cafee23feca",
        "outputId": "d6eea02d-cc1e-4184-bbdf-c541d793317d"
      },
      "outputs": [
        {
          "output_type": "execute_result",
          "data": {
            "text/plain": [
              "[Choice(finish_reason='stop', index=0, logprobs=None, message=ChatCompletionMessage(content='Artificial intelligence (AI) refers to the simulation of human intelligence processes by machines, particularly computer systems. These processes include learning, reasoning, problem-solving, perception, and language understanding. AI technologies enable machines to perform tasks that typically require human intelligence, such as visual perception, speech recognition, decision-making, and language translation.\\n\\nThere are different types of AI, including narrow AI, which is designed for specific tasks, and general AI, which aims to replicate human intelligence across a wide range of tasks. Machine learning is a subset of AI that involves training algorithms to learn from data and make predictions or decisions without being explicitly programmed.\\n\\nAI has a wide range of applications across various industries, including healthcare, finance, transportation, and entertainment. It has the potential to revolutionize how we work, live, and interact with technology in the future. However, there are also ethical and societal concerns surrounding AI, such as job displacement, bias in algorithms, and privacy issues.', refusal=None, role='assistant', annotations=[], audio=None, function_call=None, tool_calls=None))]"
            ]
          },
          "metadata": {},
          "execution_count": 4
        }
      ],
      "source": [
        "response.choices"
      ]
    },
    {
      "cell_type": "code",
      "execution_count": null,
      "id": "5f8447f2-7697-46f9-9557-ae8357590e20",
      "metadata": {
        "colab": {
          "base_uri": "https://localhost:8080/"
        },
        "id": "5f8447f2-7697-46f9-9557-ae8357590e20",
        "outputId": "38a5c321-c72d-4884-f46e-be1dddf8796e"
      },
      "outputs": [
        {
          "output_type": "execute_result",
          "data": {
            "text/plain": [
              "Choice(finish_reason='stop', index=0, logprobs=None, message=ChatCompletionMessage(content='Artificial intelligence (AI) refers to the simulation of human intelligence in machines that are programmed to think and learn like humans. AI involves the development of algorithms and computer systems that can perform tasks that typically require human intelligence, such as visual perception, speech recognition, decision-making, and language translation.\\n\\nAI systems are designed to analyze and interpret data, recognize patterns, and make decisions based on that information. They can also adapt and improve their performance over time through a process called machine learning, where they learn from experience and adjust their algorithms accordingly.\\n\\nThere are different types of AI, including narrow AI, which is designed to perform specific tasks, and general AI, which aims to replicate human intelligence across a wide range of activities. AI technologies are being used in various industries, such as healthcare, finance, transportation, and entertainment, to automate processes, improve efficiency, and enhance decision-making.\\n\\nWhile AI has the potential to bring about significant advancements and benefits, there are also concerns about its ethical implications, such as bias in algorithms, job displacement, and privacy issues. It is important for developers and policymakers to address these challenges and ensure that AI is used responsibly and ethically.', refusal=None, role='assistant', annotations=[], audio=None, function_call=None, tool_calls=None))"
            ]
          },
          "metadata": {},
          "execution_count": 9
        }
      ],
      "source": [
        "response.choices[0]"
      ]
    },
    {
      "cell_type": "code",
      "execution_count": null,
      "id": "f72c66ce-df7b-4df1-ba69-e79485dafc9e",
      "metadata": {
        "colab": {
          "base_uri": "https://localhost:8080/"
        },
        "id": "f72c66ce-df7b-4df1-ba69-e79485dafc9e",
        "outputId": "243c991e-6f2e-4858-9fe5-26b388075aad"
      },
      "outputs": [
        {
          "output_type": "execute_result",
          "data": {
            "text/plain": [
              "ChatCompletionMessage(content='Artificial intelligence (AI) refers to the simulation of human intelligence in machines that are programmed to think and learn like humans. AI involves the development of algorithms and computer systems that can perform tasks that typically require human intelligence, such as visual perception, speech recognition, decision-making, and language translation.\\n\\nAI systems are designed to analyze and interpret data, recognize patterns, and make decisions based on that information. They can also adapt and improve their performance over time through a process called machine learning, where they learn from experience and adjust their algorithms accordingly.\\n\\nThere are different types of AI, including narrow AI, which is designed to perform specific tasks, and general AI, which aims to replicate human intelligence across a wide range of activities. AI technologies are being used in various industries, such as healthcare, finance, transportation, and entertainment, to automate processes, improve efficiency, and enhance decision-making.\\n\\nWhile AI has the potential to bring about significant advancements and benefits, there are also concerns about its ethical implications, such as bias in algorithms, job displacement, and privacy issues. It is important for developers and policymakers to address these challenges and ensure that AI is used responsibly and ethically.', refusal=None, role='assistant', annotations=[], audio=None, function_call=None, tool_calls=None)"
            ]
          },
          "metadata": {},
          "execution_count": 10
        }
      ],
      "source": [
        "response.choices[0].message"
      ]
    },
    {
      "cell_type": "code",
      "execution_count": null,
      "id": "93e44044-391f-4237-a193-55fc42a511aa",
      "metadata": {
        "colab": {
          "base_uri": "https://localhost:8080/",
          "height": 143
        },
        "id": "93e44044-391f-4237-a193-55fc42a511aa",
        "outputId": "39a53a1c-b355-4128-c1e8-a8279cfff941"
      },
      "outputs": [
        {
          "output_type": "execute_result",
          "data": {
            "text/plain": [
              "'Artificial intelligence (AI) refers to the simulation of human intelligence in machines that are programmed to think and learn like humans. AI involves the development of algorithms and computer systems that can perform tasks that typically require human intelligence, such as visual perception, speech recognition, decision-making, and language translation.\\n\\nAI systems are designed to analyze and interpret data, recognize patterns, and make decisions based on that information. They can also adapt and improve their performance over time through a process called machine learning, where they learn from experience and adjust their algorithms accordingly.\\n\\nThere are different types of AI, including narrow AI, which is designed to perform specific tasks, and general AI, which aims to replicate human intelligence across a wide range of activities. AI technologies are being used in various industries, such as healthcare, finance, transportation, and entertainment, to automate processes, improve efficiency, and enhance decision-making.\\n\\nWhile AI has the potential to bring about significant advancements and benefits, there are also concerns about its ethical implications, such as bias in algorithms, job displacement, and privacy issues. It is important for developers and policymakers to address these challenges and ensure that AI is used responsibly and ethically.'"
            ],
            "application/vnd.google.colaboratory.intrinsic+json": {
              "type": "string"
            }
          },
          "metadata": {},
          "execution_count": 11
        }
      ],
      "source": [
        "response.choices[0].message.content"
      ]
    },
    {
      "cell_type": "code",
      "execution_count": null,
      "id": "2409aef9-0cc0-451d-b17f-d7ff4562782d",
      "metadata": {
        "id": "2409aef9-0cc0-451d-b17f-d7ff4562782d"
      },
      "outputs": [],
      "source": [
        "def get_completion(prompt, model = \"gpt-3.5-turbo\"):\n",
        "\n",
        "    # Create the messages list with the user prompt\n",
        "    messages = [\n",
        "        {\"role\": \"system\", \"content\": \"You are a math tutor\"},\n",
        "        {\"role\": \"user\", \"content\": \"Explain me the ...\"},\n",
        "        {\"role\": \"assistant\", \"content\": \"The concept is like...\"},\n",
        "        {\"role\": \"user\", \"content\": prompt+\"Also give me an example\"},\n",
        "\n",
        "    ]\n",
        "\n",
        "    # Create a chat completion request\n",
        "    response = openai.chat.completions.create(\n",
        "\n",
        "        model=model,\n",
        "        messages=messages,\n",
        "        temperature=0.9,\n",
        "        max_tokens=512\n",
        "\n",
        "    )\n",
        "\n",
        "    # Return the content of the response\n",
        "    # instead of entire response\n",
        "    return response.choices[0].message.content\n",
        "\n"
      ]
    },
    {
      "cell_type": "code",
      "execution_count": null,
      "id": "6e1beb11-7c32-44e8-bf11-6d678dd383c5",
      "metadata": {
        "colab": {
          "base_uri": "https://localhost:8080/"
        },
        "id": "6e1beb11-7c32-44e8-bf11-6d678dd383c5",
        "outputId": "68624835-015e-4aca-ce79-f980b44ef59a"
      },
      "outputs": [
        {
          "output_type": "stream",
          "name": "stdout",
          "text": [
            "Trigonometry is a branch of mathematics that deals with the relationships between the angles and sides of triangles. It is commonly used to solve problems involving triangles and periodic phenomena.\n",
            "\n",
            "One of the fundamental trigonometric functions is the sine function, denoted as sin. The sine of an angle in a right triangle is defined as the ratio of the length of the side opposite the angle to the length of the hypotenuse. Similarly, the cosine function (cos) is defined as the ratio of the length of the adjacent side to the length of the hypotenuse.\n",
            "\n",
            "For example, let's consider a right triangle with an angle of 30 degrees. If we know the length of the opposite side is 5 units and the length of the hypotenuse is 10 units, we can find the sine of the angle by dividing the length of the opposite side by the length of the hypotenuse:\n",
            "\n",
            "sin(30°) = opposite/hypotenuse = 5/10 = 0.5\n",
            "\n",
            "Therefore, the sine of 30 degrees in this triangle is 0.5. Trigonometry is a vast field with many applications in various areas of mathematics, science, engineering, and more.\n"
          ]
        }
      ],
      "source": [
        "prompt = \"trignometry\"\n",
        "\n",
        "response_content = get_completion(prompt)\n",
        "print(response_content)"
      ]
    },
    {
      "cell_type": "code",
      "execution_count": null,
      "id": "f442b52c-c41e-4e9a-ba68-8fbeb3a83efb",
      "metadata": {
        "id": "f442b52c-c41e-4e9a-ba68-8fbeb3a83efb",
        "colab": {
          "base_uri": "https://localhost:8080/"
        },
        "outputId": "8bb35467-fd7f-48f8-e2d8-4f04e1dc7436"
      },
      "outputs": [
        {
          "output_type": "stream",
          "name": "stdout",
          "text": [
            "Algebra is a branch of mathematics that deals with symbols and the rules for manipulating those symbols to solve equations and analyze mathematical relationships. It involves using variables to represent unknown quantities and performing operations to find the value of those variables.\n",
            "\n",
            "Example:\n",
            "Solve the equation 2x + 5 = 11 for x.\n",
            "\n",
            "To solve this equation, we need to isolate the variable x on one side of the equation. Here's how you can do it:\n",
            "\n",
            "2x + 5 = 11\n",
            "Subtract 5 from both sides:\n",
            "2x = 6\n",
            "Divide by 2:\n",
            "x = 3\n",
            "\n",
            "So, the solution to the equation 2x + 5 = 11 is x = 3.\n"
          ]
        }
      ],
      "source": [
        "prompt = \"algebra\"\n",
        "\n",
        "response_content = get_completion(prompt)\n",
        "print(response_content)"
      ]
    },
    {
      "cell_type": "code",
      "source": [],
      "metadata": {
        "id": "tCROQDhZk4wj"
      },
      "id": "tCROQDhZk4wj",
      "execution_count": null,
      "outputs": []
    }
  ],
  "metadata": {
    "colab": {
      "provenance": []
    },
    "kernelspec": {
      "display_name": "Python 3 [3.10]",
      "language": "python",
      "name": "python3"
    },
    "language_info": {
      "codemirror_mode": {
        "name": "ipython",
        "version": 3
      },
      "file_extension": ".py",
      "mimetype": "text/x-python",
      "name": "python",
      "nbconvert_exporter": "python",
      "pygments_lexer": "ipython3",
      "version": "3.10.2"
    }
  },
  "nbformat": 4,
  "nbformat_minor": 5
}