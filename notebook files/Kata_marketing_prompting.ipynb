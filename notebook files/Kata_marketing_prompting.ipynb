{
  "cells": [
    {
      "cell_type": "markdown",
      "id": "33679ce2-9df6-4bc5-b875-953500b0cdc0",
      "metadata": {
        "id": "33679ce2-9df6-4bc5-b875-953500b0cdc0"
      },
      "source": [
        "# __Kata: Generating Marketing Content with OpenAI__\n"
      ]
    },
    {
      "cell_type": "markdown",
      "id": "884ce215-54cf-4a8f-8177-9189423a412c",
      "metadata": {
        "id": "884ce215-54cf-4a8f-8177-9189423a412c"
      },
      "source": [
        "## __Steps to Perform:__\n",
        "Step 1: Set up the OpenAI API Key\n",
        "\n",
        "Step 2: Define a Function to Get Completion\n",
        "\n",
        "Step 3: Define Your Prompt\n"
      ]
    },
    {
      "cell_type": "markdown",
      "id": "17522620-a9f9-46af-9293-c81e63442bc1",
      "metadata": {
        "id": "17522620-a9f9-46af-9293-c81e63442bc1"
      },
      "source": [
        "### __Step 1: Set up the OpenAI API Key__\n",
        "\n",
        "- The code imports the necessary libraries.\n",
        "- The __os__ is used for interacting with the operating system, and __openai__ is the library required to work with OpenAI's API."
      ]
    },
    {
      "cell_type": "code",
      "execution_count": 1,
      "id": "39c86a56-9cb2-4759-aabf-5136dd059077",
      "metadata": {
        "id": "39c86a56-9cb2-4759-aabf-5136dd059077"
      },
      "outputs": [],
      "source": [
        "import os\n",
        "import openai\n",
        "from google.colab import userdata\n",
        "\n",
        "\n",
        "openai.api_key  = userdata.get('OPENAI_API_KEY')\n"
      ]
    },
    {
      "cell_type": "markdown",
      "id": "e877b6ac-1a14-4535-b38a-2502f02abc33",
      "metadata": {
        "id": "e877b6ac-1a14-4535-b38a-2502f02abc33"
      },
      "source": [
        "### __Step 2: Define a Function to Get Completion__\n",
        "The __get_completion__ function is responsible for sending a prompt to the OpenAI model and receiving its response.\n",
        "\n",
        "__Parameters:__\n",
        "\n",
        "- __prompt__: It is the text input for which the model will generate a completion.\n",
        "- __model__: The gpt-3.5-turbo model is used to perform the tasks.\n",
        "\n",
        "The __openai.ChatCompletion.create__ function is used to send a request to the OpenAI API.\n",
        "\n",
        "This request includes the model, the input messages (formatted as a list of dictionaries with user roles and content), and a temperature setting."
      ]
    },
    {
      "cell_type": "code",
      "execution_count": 2,
      "id": "bc464f8a-f318-4097-91c9-fd1fded34969",
      "metadata": {
        "id": "bc464f8a-f318-4097-91c9-fd1fded34969"
      },
      "outputs": [],
      "source": [
        "def get_completion(prompt, model=\"gpt-3.5-turbo\"):\n",
        "    messages = [{\"role\": \"user\", \"content\": prompt}]\n",
        "    response = openai.chat.completions.create(\n",
        "        model=model,\n",
        "        messages=messages,\n",
        "        temperature=1, # this is the degree of randomness of the model's output\n",
        "    )\n",
        "    return response.choices[0].message.content"
      ]
    },
    {
      "cell_type": "markdown",
      "id": "2a5d4ecd-b78a-457a-8629-dc58d97c3eaf",
      "metadata": {
        "id": "2a5d4ecd-b78a-457a-8629-dc58d97c3eaf"
      },
      "source": [
        "### __Step 3: Define Your Prompts__\n",
        "- The prompt consists of several pieces of customer feedback, each followed by a classification (Positive, Negative, or Neutral).\n",
        "- These examples serve to teach the model what kind of output is expected.\n",
        "- The final feedback statement is the new instance for which the classification is sought."
      ]
    },
    {
      "cell_type": "code",
      "execution_count": 4,
      "id": "qU8nqzWMJb1g",
      "metadata": {
        "id": "qU8nqzWMJb1g",
        "colab": {
          "base_uri": "https://localhost:8080/"
        },
        "outputId": "275f131f-bd48-400e-bd9a-b69c2a4084d7"
      },
      "outputs": [
        {
          "output_type": "stream",
          "name": "stdout",
          "text": [
            "Stay hydrated on the go with our durable and stylish water bottle. Made from high-quality materials, this bottle is perfect for any adventure – from hiking in the mountains to running errands around town. With a secure lid and easy-to-hold design, you can trust that your drink will stay fresh and leak-free. Plus, our sleek design makes it easy to stay trendy while staying hydrated. Make a statement with your water bottle and make sure you're never without a drink again. Grab yours today and start hydrating in style!\n"
          ]
        }
      ],
      "source": [
        "prompt = \"\"\"\n",
        "Write some marketing content for a water bottle\n",
        "\"\"\"\n",
        "\n",
        "response = get_completion(prompt)\n",
        "print(response)"
      ]
    },
    {
      "cell_type": "code",
      "execution_count": 3,
      "id": "53df046c-65ce-4385-8e60-b5af439567ca",
      "metadata": {
        "colab": {
          "base_uri": "https://localhost:8080/"
        },
        "id": "53df046c-65ce-4385-8e60-b5af439567ca",
        "outputId": "94ac1b77-592e-4ffa-dcff-358e17743d9c"
      },
      "outputs": [
        {
          "output_type": "stream",
          "name": "stdout",
          "text": [
            "1. \"Sip sustainably with AquaPure: your eco-friendly hydration companion 🌿♻️ #ReuseReviveRefresh\"\n",
            "2. \"Hydrate Responsibly with AquaPure!\"\n",
            "3. \"Revive. Reuse. Refresh. Hydrate with Purpose.\"\n"
          ]
        }
      ],
      "source": [
        "refined_prompt = \"\"\"\n",
        "You are a creative marketing copywriter for a modern, eco-conscious brand.\n",
        "\n",
        "Here are some examples of our brand voice: clean, nature-inspired, minimalist, optimistic.\n",
        "\n",
        "Now generate copy for our new product: AquaPure — a reusable water bottle made from recycled glass.\n",
        "\n",
        "Please generate:\n",
        "1. An Instagram caption (limit 150 characters)\n",
        "2. An email subject line (under 60 characters)\n",
        "3. A product tagline (under 10 words)\n",
        "\n",
        "Use a fresh, eco-positive tone, without exaggeration or greenwashing. Do not repeat the product name more than once. Format clearly.\n",
        "\"\"\"\n",
        "\n",
        "response = get_completion(refined_prompt)\n",
        "print(response)"
      ]
    },
    {
      "cell_type": "markdown",
      "id": "41311957-8999-431b-8196-03626a68c44c",
      "metadata": {
        "id": "41311957-8999-431b-8196-03626a68c44c"
      },
      "source": [
        "In this few-shot solution, the model uses the provided examples to understand the context and criteria for classification, applying that understanding to classify new, unseen feedback. This is particularly useful for more subjective tasks like sentiment analysis, where context and nuance play significant roles."
      ]
    }
  ],
  "metadata": {
    "colab": {
      "provenance": []
    },
    "kernelspec": {
      "display_name": "Python 3 [3.10]",
      "language": "python",
      "name": "python3"
    },
    "language_info": {
      "codemirror_mode": {
        "name": "ipython",
        "version": 3
      },
      "file_extension": ".py",
      "mimetype": "text/x-python",
      "name": "python",
      "nbconvert_exporter": "python",
      "pygments_lexer": "ipython3",
      "version": "3.10.2"
    }
  },
  "nbformat": 4,
  "nbformat_minor": 5
}